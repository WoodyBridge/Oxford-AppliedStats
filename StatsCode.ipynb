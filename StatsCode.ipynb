{
 "cells": [
  {
   "cell_type": "markdown",
   "metadata": {},
   "source": [
    "# Appendix"
   ]
  },
  {
   "cell_type": "markdown",
   "metadata": {},
   "source": [
    "## Set the kernel"
   ]
  },
  {
   "cell_type": "code",
   "execution_count": 2,
   "metadata": {},
   "outputs": [],
   "source": [
    "import pandas as pd\n",
    "import glob\n",
    "import geopy.distance\n",
    "import matplotlib.pyplot as plt\n",
    "import seaborn as sns\n",
    "import numpy as np\n",
    "import statsmodels.api as sm\n",
    "import statsmodels.formula.api as smf"
   ]
  },
  {
   "cell_type": "code",
   "execution_count": 29,
   "metadata": {},
   "outputs": [],
   "source": [
    "# The function below will be used to generate a independent variable within our regression models\n",
    "# This variable will be distance to the city center\n",
    "\n",
    "def geopydist2(df,coords_1):\n",
    "    ''' This function will take a dataframe with geo-coords and compute the distance to \n",
    "        a given set of geo-coords labled in the function as coords_1'''\n",
    "    distances=[]\n",
    "    for i in range(len(df)):\n",
    "        coords_2 = (df['latitude'][i],df['longitude'][i])\n",
    "        \n",
    "        try:\n",
    "            distances.append(geopy.distance.vincenty(coords_1, coords_2).km)\n",
    "        except: \n",
    "            print('ERROR')\n",
    "    return distances"
   ]
  },
  {
   "cell_type": "markdown",
   "metadata": {},
   "source": [
    "## Variables"
   ]
  },
  {
   "cell_type": "code",
   "execution_count": 15,
   "metadata": {},
   "outputs": [
    {
     "name": "stderr",
     "output_type": "stream",
     "text": [
      "/anaconda3/lib/python3.6/site-packages/IPython/core/interactiveshell.py:2785: DtypeWarning: Columns (87) have mixed types. Specify dtype option on import or set low_memory=False.\n",
      "  interactivity=interactivity, compiler=compiler, result=result)\n",
      "/anaconda3/lib/python3.6/site-packages/ipykernel_launcher.py:13: SettingWithCopyWarning: \n",
      "A value is trying to be set on a copy of a slice from a DataFrame.\n",
      "Try using .loc[row_indexer,col_indexer] = value instead\n",
      "\n",
      "See the caveats in the documentation: http://pandas.pydata.org/pandas-docs/stable/indexing.html#indexing-view-versus-copy\n",
      "  del sys.path[0]\n",
      "/anaconda3/lib/python3.6/site-packages/ipykernel_launcher.py:14: SettingWithCopyWarning: \n",
      "A value is trying to be set on a copy of a slice from a DataFrame.\n",
      "Try using .loc[row_indexer,col_indexer] = value instead\n",
      "\n",
      "See the caveats in the documentation: http://pandas.pydata.org/pandas-docs/stable/indexing.html#indexing-view-versus-copy\n",
      "  \n"
     ]
    }
   ],
   "source": [
    "########################################\n",
    "############# Airbnb data ##############\n",
    "########################################\n",
    "\n",
    "# London Airbnb data from Inside Airbnb\n",
    "Ldn_Abnb = pd.read_csv('/Users/JoshWoodbridge/Documents/University/Oxford/Study/Michaelmas_Term/Applied_Stats/Project/Data/London_October.csv')\n",
    "\n",
    "# Get not null postcodes \n",
    "# # null = 1931\n",
    "Abnb_pcode = Ldn_Abnb[Ldn_Abnb['zipcode'].isnull()==False]\n",
    "\n",
    "# # Format postcode column to just districts\n",
    "Abnb_pcode['zipcode'] = Abnb_pcode['zipcode'].apply(lambda x: (x.split(' ')[0]))\n",
    "Abnb_pcode['zipcode'] = Abnb_pcode['zipcode'].apply(lambda x: x[:-3] if len(x)>4 else x)\n",
    "Abnb_df = pd.DataFrame([Abnb_pcode['zipcode'],Abnb_pcode['number_of_reviews']]).T\n",
    "\n",
    "# Import list of inner london postcode districts\n",
    "Inner_Ldn_districts = pd.read_csv('/Users/JoshWoodbridge/Documents/University/Oxford/Study/Michaelmas_Term/Applied_Stats/Project/Postcode_districtsv3.csv')\n",
    "\n",
    "# Keep only inner london postcode districts\n",
    "Inner_Ldn_districts = Inner_Ldn_districts['London_Districts']\n",
    "\n",
    "# Remove E20 as not in 2011 Census data\n",
    "Inner_Ldn_districts = (Inner_Ldn_districts.drop(index = 18)).reset_index()\n",
    "Inner_Ldn_districts = Inner_Ldn_districts.drop('index',axis =1)\n",
    "\n",
    "# Airbnbs in inner london\n",
    "Abnb_df_Ldn = Abnb_df[Abnb_df['zipcode'].isin(Inner_Ldn_districts['London_Districts'])]\n",
    "\n",
    "### Number of reviews by zipcode\n",
    "Review_by_district = Abnb_df_Ldn.groupby('zipcode')['number_of_reviews'].sum().reset_index()\n",
    "\n",
    "# Listings by district\n",
    "\n",
    "Listings_by_district = Abnb_df_Ldn.groupby('zipcode').count()"
   ]
  },
  {
   "cell_type": "code",
   "execution_count": 20,
   "metadata": {},
   "outputs": [
    {
     "data": {
      "text/plain": [
       "number_of_reviews    231099.040022\n",
       "dtype: float64"
      ]
     },
     "execution_count": 20,
     "metadata": {},
     "output_type": "execute_result"
    }
   ],
   "source": [
    "Listings_by_district.var()"
   ]
  },
  {
   "cell_type": "code",
   "execution_count": 17,
   "metadata": {},
   "outputs": [
    {
     "data": {
      "text/html": [
       "<div>\n",
       "<style scoped>\n",
       "    .dataframe tbody tr th:only-of-type {\n",
       "        vertical-align: middle;\n",
       "    }\n",
       "\n",
       "    .dataframe tbody tr th {\n",
       "        vertical-align: top;\n",
       "    }\n",
       "\n",
       "    .dataframe thead th {\n",
       "        text-align: right;\n",
       "    }\n",
       "</style>\n",
       "<table border=\"1\" class=\"dataframe\">\n",
       "  <thead>\n",
       "    <tr style=\"text-align: right;\">\n",
       "      <th></th>\n",
       "      <th>number_of_reviews</th>\n",
       "    </tr>\n",
       "    <tr>\n",
       "      <th>zipcode</th>\n",
       "      <th></th>\n",
       "    </tr>\n",
       "  </thead>\n",
       "  <tbody>\n",
       "    <tr>\n",
       "      <th>E1</th>\n",
       "      <td>2831</td>\n",
       "    </tr>\n",
       "    <tr>\n",
       "      <th>E10</th>\n",
       "      <td>257</td>\n",
       "    </tr>\n",
       "    <tr>\n",
       "      <th>E11</th>\n",
       "      <td>307</td>\n",
       "    </tr>\n",
       "    <tr>\n",
       "      <th>E12</th>\n",
       "      <td>95</td>\n",
       "    </tr>\n",
       "    <tr>\n",
       "      <th>E13</th>\n",
       "      <td>176</td>\n",
       "    </tr>\n",
       "  </tbody>\n",
       "</table>\n",
       "</div>"
      ],
      "text/plain": [
       "         number_of_reviews\n",
       "zipcode                   \n",
       "E1                    2831\n",
       "E10                    257\n",
       "E11                    307\n",
       "E12                     95\n",
       "E13                    176"
      ]
     },
     "execution_count": 17,
     "metadata": {},
     "output_type": "execute_result"
    }
   ],
   "source": [
    "Listings_by_district.head()"
   ]
  },
  {
   "cell_type": "code",
   "execution_count": 18,
   "metadata": {},
   "outputs": [
    {
     "data": {
      "text/html": [
       "<div>\n",
       "<style scoped>\n",
       "    .dataframe tbody tr th:only-of-type {\n",
       "        vertical-align: middle;\n",
       "    }\n",
       "\n",
       "    .dataframe tbody tr th {\n",
       "        vertical-align: top;\n",
       "    }\n",
       "\n",
       "    .dataframe thead th {\n",
       "        text-align: right;\n",
       "    }\n",
       "</style>\n",
       "<table border=\"1\" class=\"dataframe\">\n",
       "  <thead>\n",
       "    <tr style=\"text-align: right;\">\n",
       "      <th></th>\n",
       "      <th>number_of_reviews</th>\n",
       "    </tr>\n",
       "  </thead>\n",
       "  <tbody>\n",
       "    <tr>\n",
       "      <th>count</th>\n",
       "      <td>154.000000</td>\n",
       "    </tr>\n",
       "    <tr>\n",
       "      <th>mean</th>\n",
       "      <td>420.746753</td>\n",
       "    </tr>\n",
       "    <tr>\n",
       "      <th>std</th>\n",
       "      <td>480.727615</td>\n",
       "    </tr>\n",
       "    <tr>\n",
       "      <th>min</th>\n",
       "      <td>8.000000</td>\n",
       "    </tr>\n",
       "    <tr>\n",
       "      <th>25%</th>\n",
       "      <td>99.250000</td>\n",
       "    </tr>\n",
       "    <tr>\n",
       "      <th>50%</th>\n",
       "      <td>239.500000</td>\n",
       "    </tr>\n",
       "    <tr>\n",
       "      <th>75%</th>\n",
       "      <td>574.250000</td>\n",
       "    </tr>\n",
       "    <tr>\n",
       "      <th>max</th>\n",
       "      <td>2831.000000</td>\n",
       "    </tr>\n",
       "  </tbody>\n",
       "</table>\n",
       "</div>"
      ],
      "text/plain": [
       "       number_of_reviews\n",
       "count         154.000000\n",
       "mean          420.746753\n",
       "std           480.727615\n",
       "min             8.000000\n",
       "25%            99.250000\n",
       "50%           239.500000\n",
       "75%           574.250000\n",
       "max          2831.000000"
      ]
     },
     "execution_count": 18,
     "metadata": {},
     "output_type": "execute_result"
    }
   ],
   "source": [
    "Listings_by_district.describe()"
   ]
  },
  {
   "cell_type": "code",
   "execution_count": 282,
   "metadata": {},
   "outputs": [
    {
     "data": {
      "text/html": [
       "<div>\n",
       "<style scoped>\n",
       "    .dataframe tbody tr th:only-of-type {\n",
       "        vertical-align: middle;\n",
       "    }\n",
       "\n",
       "    .dataframe tbody tr th {\n",
       "        vertical-align: top;\n",
       "    }\n",
       "\n",
       "    .dataframe thead th {\n",
       "        text-align: right;\n",
       "    }\n",
       "</style>\n",
       "<table border=\"1\" class=\"dataframe\">\n",
       "  <thead>\n",
       "    <tr style=\"text-align: right;\">\n",
       "      <th></th>\n",
       "      <th>number_of_reviews</th>\n",
       "    </tr>\n",
       "    <tr>\n",
       "      <th>zipcode</th>\n",
       "      <th></th>\n",
       "    </tr>\n",
       "  </thead>\n",
       "  <tbody>\n",
       "    <tr>\n",
       "      <th>E12</th>\n",
       "      <td>95</td>\n",
       "    </tr>\n",
       "    <tr>\n",
       "      <th>E18</th>\n",
       "      <td>63</td>\n",
       "    </tr>\n",
       "    <tr>\n",
       "      <th>E4</th>\n",
       "      <td>84</td>\n",
       "    </tr>\n",
       "    <tr>\n",
       "      <th>EC1A</th>\n",
       "      <td>41</td>\n",
       "    </tr>\n",
       "    <tr>\n",
       "      <th>EC1M</th>\n",
       "      <td>99</td>\n",
       "    </tr>\n",
       "    <tr>\n",
       "      <th>EC1N</th>\n",
       "      <td>91</td>\n",
       "    </tr>\n",
       "    <tr>\n",
       "      <th>EC1Y</th>\n",
       "      <td>93</td>\n",
       "    </tr>\n",
       "    <tr>\n",
       "      <th>EC2Y</th>\n",
       "      <td>19</td>\n",
       "    </tr>\n",
       "    <tr>\n",
       "      <th>EC3R</th>\n",
       "      <td>28</td>\n",
       "    </tr>\n",
       "    <tr>\n",
       "      <th>EC4A</th>\n",
       "      <td>57</td>\n",
       "    </tr>\n",
       "    <tr>\n",
       "      <th>EC4V</th>\n",
       "      <td>37</td>\n",
       "    </tr>\n",
       "    <tr>\n",
       "      <th>EC4Y</th>\n",
       "      <td>8</td>\n",
       "    </tr>\n",
       "    <tr>\n",
       "      <th>N12</th>\n",
       "      <td>81</td>\n",
       "    </tr>\n",
       "    <tr>\n",
       "      <th>N13</th>\n",
       "      <td>81</td>\n",
       "    </tr>\n",
       "    <tr>\n",
       "      <th>N14</th>\n",
       "      <td>81</td>\n",
       "    </tr>\n",
       "    <tr>\n",
       "      <th>N18</th>\n",
       "      <td>28</td>\n",
       "    </tr>\n",
       "    <tr>\n",
       "      <th>N20</th>\n",
       "      <td>46</td>\n",
       "    </tr>\n",
       "    <tr>\n",
       "      <th>N21</th>\n",
       "      <td>29</td>\n",
       "    </tr>\n",
       "    <tr>\n",
       "      <th>N3</th>\n",
       "      <td>98</td>\n",
       "    </tr>\n",
       "    <tr>\n",
       "      <th>N9</th>\n",
       "      <td>49</td>\n",
       "    </tr>\n",
       "    <tr>\n",
       "      <th>NW7</th>\n",
       "      <td>73</td>\n",
       "    </tr>\n",
       "    <tr>\n",
       "      <th>SE12</th>\n",
       "      <td>95</td>\n",
       "    </tr>\n",
       "    <tr>\n",
       "      <th>SE2</th>\n",
       "      <td>59</td>\n",
       "    </tr>\n",
       "    <tr>\n",
       "      <th>SE20</th>\n",
       "      <td>100</td>\n",
       "    </tr>\n",
       "    <tr>\n",
       "      <th>SE21</th>\n",
       "      <td>96</td>\n",
       "    </tr>\n",
       "    <tr>\n",
       "      <th>SW1A</th>\n",
       "      <td>20</td>\n",
       "    </tr>\n",
       "    <tr>\n",
       "      <th>SW1E</th>\n",
       "      <td>24</td>\n",
       "    </tr>\n",
       "    <tr>\n",
       "      <th>SW1H</th>\n",
       "      <td>19</td>\n",
       "    </tr>\n",
       "    <tr>\n",
       "      <th>SW1Y</th>\n",
       "      <td>78</td>\n",
       "    </tr>\n",
       "    <tr>\n",
       "      <th>W1B</th>\n",
       "      <td>13</td>\n",
       "    </tr>\n",
       "    <tr>\n",
       "      <th>W1G</th>\n",
       "      <td>78</td>\n",
       "    </tr>\n",
       "    <tr>\n",
       "      <th>W1S</th>\n",
       "      <td>52</td>\n",
       "    </tr>\n",
       "    <tr>\n",
       "      <th>W7</th>\n",
       "      <td>98</td>\n",
       "    </tr>\n",
       "    <tr>\n",
       "      <th>WC1A</th>\n",
       "      <td>83</td>\n",
       "    </tr>\n",
       "    <tr>\n",
       "      <th>WC1B</th>\n",
       "      <td>23</td>\n",
       "    </tr>\n",
       "    <tr>\n",
       "      <th>WC1E</th>\n",
       "      <td>70</td>\n",
       "    </tr>\n",
       "    <tr>\n",
       "      <th>WC1R</th>\n",
       "      <td>30</td>\n",
       "    </tr>\n",
       "    <tr>\n",
       "      <th>WC1V</th>\n",
       "      <td>18</td>\n",
       "    </tr>\n",
       "    <tr>\n",
       "      <th>WC2E</th>\n",
       "      <td>90</td>\n",
       "    </tr>\n",
       "    <tr>\n",
       "      <th>WC2N</th>\n",
       "      <td>95</td>\n",
       "    </tr>\n",
       "  </tbody>\n",
       "</table>\n",
       "</div>"
      ],
      "text/plain": [
       "         number_of_reviews\n",
       "zipcode                   \n",
       "E12                     95\n",
       "E18                     63\n",
       "E4                      84\n",
       "EC1A                    41\n",
       "EC1M                    99\n",
       "EC1N                    91\n",
       "EC1Y                    93\n",
       "EC2Y                    19\n",
       "EC3R                    28\n",
       "EC4A                    57\n",
       "EC4V                    37\n",
       "EC4Y                     8\n",
       "N12                     81\n",
       "N13                     81\n",
       "N14                     81\n",
       "N18                     28\n",
       "N20                     46\n",
       "N21                     29\n",
       "N3                      98\n",
       "N9                      49\n",
       "NW7                     73\n",
       "SE12                    95\n",
       "SE2                     59\n",
       "SE20                   100\n",
       "SE21                    96\n",
       "SW1A                    20\n",
       "SW1E                    24\n",
       "SW1H                    19\n",
       "SW1Y                    78\n",
       "W1B                     13\n",
       "W1G                     78\n",
       "W1S                     52\n",
       "W7                      98\n",
       "WC1A                    83\n",
       "WC1B                    23\n",
       "WC1E                    70\n",
       "WC1R                    30\n",
       "WC1V                    18\n",
       "WC2E                    90\n",
       "WC2N                    95"
      ]
     },
     "execution_count": 282,
     "metadata": {},
     "output_type": "execute_result"
    }
   ],
   "source": [
    "Listings_by_district[Listings_by_district['number_of_reviews']<= 100]"
   ]
  },
  {
   "cell_type": "code",
   "execution_count": 273,
   "metadata": {},
   "outputs": [],
   "source": [
    "Listings_by_district_Graph.columns = ['Number of Airbnbs']"
   ]
  },
  {
   "cell_type": "code",
   "execution_count": 279,
   "metadata": {},
   "outputs": [
    {
     "data": {
      "image/png": "[encoded data removed]",
      "text/plain": [
       "<Figure size 432x288 with 1 Axes>"
      ]
     },
     "metadata": {},
     "output_type": "display_data"
    }
   ],
   "source": [
    "Listings_by_district_Graph.plot.hist()\n",
    "sns.despine()\n",
    "plt.savefig('Listings_dist.png')\n"
   ]
  },
  {
   "cell_type": "code",
   "execution_count": null,
   "metadata": {},
   "outputs": [],
   "source": [
    "savefig('foo.png')"
   ]
  },
  {
   "cell_type": "code",
   "execution_count": null,
   "metadata": {},
   "outputs": [],
   "source": [
    "sns_plot.savefig('output.png')"
   ]
  },
  {
   "cell_type": "code",
   "execution_count": 270,
   "metadata": {},
   "outputs": [],
   "source": [
    "Listings_by_district.to_csv('listings.csv')"
   ]
  },
  {
   "cell_type": "code",
   "execution_count": 30,
   "metadata": {},
   "outputs": [],
   "source": [
    "########################################\n",
    "########### Distances in km ############\n",
    "########################################\n",
    "\n",
    "# Import postcode district centroid data (from FreeMapTools.com)\n",
    "postcode_districts = pd.read_csv('/Users/JoshWoodbridge/Documents/University/Oxford/Study/Michaelmas_Term/Applied_Stats/Project/Data/District/CSV/postcode_district_centroid.csv')\n",
    "\n",
    "# # Import list of inner london postcode districts\n",
    "# Inner_Ldn_districts = pd.read_csv('/Users/JoshWoodbridge/Documents/University/Oxford/Study/Michaelmas_Term/Applied_Stats/Project/Postcode_districtsv3.csv')\n",
    "\n",
    "# # Keep only inner london postcode districts\n",
    "# Inner_Ldn_districts = Inner_Ldn_districts['London_Districts']\n",
    "\n",
    "# # Remove E20 as not in 2011 Census data\n",
    "# Inner_Ldn_districts = (Inner_Ldn_districts.drop(index = 18)).reset_index()\n",
    "# Inner_Ldn_districts = Inner_Ldn_districts.drop('index',axis =1)\n",
    "\n",
    "Inner_Ldn_geocoords = postcode_districts[postcode_districts['postcode'].isin(Inner_Ldn_districts['London_Districts'])]\n",
    "Inner_Ldn_geocoords = Inner_Ldn_geocoords.reset_index()\n",
    "\n",
    "\n",
    "# True Geographical Centre of London\n",
    "LONDON = (51.5104,0.1156)\n",
    "\n",
    "# Calculate distance in km to each district\n",
    "distances = geopydist2(Inner_Ldn_geocoords,LONDON)\n",
    "Inner_Ldn_geocoords['Distances'] = distances\n",
    "distances = Inner_Ldn_geocoords.drop(['index','id','latitude','longitude'],axis = 1)"
   ]
  },
  {
   "cell_type": "code",
   "execution_count": 32,
   "metadata": {},
   "outputs": [
    {
     "data": {
      "text/plain": [
       "<matplotlib.axes._subplots.AxesSubplot at 0x1c133db2b0>"
      ]
     },
     "execution_count": 32,
     "metadata": {},
     "output_type": "execute_result"
    },
    {
     "data": {
      "image/png": "[encoded data removed]",
      "text/plain": [
       "<Figure size 432x288 with 1 Axes>"
      ]
     },
     "metadata": {},
     "output_type": "display_data"
    }
   ],
   "source": [
    "sns.distplot(distances['Distances'])"
   ]
  },
  {
   "cell_type": "code",
   "execution_count": 71,
   "metadata": {},
   "outputs": [],
   "source": [
    "########################################\n",
    "############## Age 24-34 ###############\n",
    "########################################\n",
    "\n",
    "# Import Age\n",
    "Age = pd.read_csv('/Users/JoshWoodbridge/Documents/University/Oxford/Study/Michaelmas_Term/Applied_Stats/Project/Data/District/CSV/nomis_Age.csv')\n",
    "\n",
    "# Filter for only inner london districts\n",
    "Age = Age[Age['postcode districts'].isin(Inner_Ldn_districts['London_Districts'])]\n",
    "\n",
    "# # Get sum of Young ages\n",
    "Age['Age 20 to 29'] = Age['Age 20 to 24'] + Age['Age 25 to 29']\n",
    "Age = Age.drop(['Age 20 to 24','Age 25 to 29'],axis = 1)\n",
    "Age = Age[['postcode districts', 'Age 20 to 29']]"
   ]
  },
  {
   "cell_type": "code",
   "execution_count": 72,
   "metadata": {},
   "outputs": [
    {
     "data": {
      "text/html": [
       "<div>\n",
       "<style scoped>\n",
       "    .dataframe tbody tr th:only-of-type {\n",
       "        vertical-align: middle;\n",
       "    }\n",
       "\n",
       "    .dataframe tbody tr th {\n",
       "        vertical-align: top;\n",
       "    }\n",
       "\n",
       "    .dataframe thead th {\n",
       "        text-align: right;\n",
       "    }\n",
       "</style>\n",
       "<table border=\"1\" class=\"dataframe\">\n",
       "  <thead>\n",
       "    <tr style=\"text-align: right;\">\n",
       "      <th></th>\n",
       "      <th>Age 20 to 29</th>\n",
       "    </tr>\n",
       "  </thead>\n",
       "  <tbody>\n",
       "    <tr>\n",
       "      <th>count</th>\n",
       "      <td>154.000000</td>\n",
       "    </tr>\n",
       "    <tr>\n",
       "      <th>mean</th>\n",
       "      <td>6382.123377</td>\n",
       "    </tr>\n",
       "    <tr>\n",
       "      <th>std</th>\n",
       "      <td>5392.013785</td>\n",
       "    </tr>\n",
       "    <tr>\n",
       "      <th>min</th>\n",
       "      <td>41.000000</td>\n",
       "    </tr>\n",
       "    <tr>\n",
       "      <th>25%</th>\n",
       "      <td>1721.750000</td>\n",
       "    </tr>\n",
       "    <tr>\n",
       "      <th>50%</th>\n",
       "      <td>5045.500000</td>\n",
       "    </tr>\n",
       "    <tr>\n",
       "      <th>75%</th>\n",
       "      <td>9686.250000</td>\n",
       "    </tr>\n",
       "    <tr>\n",
       "      <th>max</th>\n",
       "      <td>23384.000000</td>\n",
       "    </tr>\n",
       "  </tbody>\n",
       "</table>\n",
       "</div>"
      ],
      "text/plain": [
       "       Age 20 to 29\n",
       "count    154.000000\n",
       "mean    6382.123377\n",
       "std     5392.013785\n",
       "min       41.000000\n",
       "25%     1721.750000\n",
       "50%     5045.500000\n",
       "75%     9686.250000\n",
       "max    23384.000000"
      ]
     },
     "execution_count": 72,
     "metadata": {},
     "output_type": "execute_result"
    }
   ],
   "source": [
    "Age.describe()"
   ]
  },
  {
   "cell_type": "code",
   "execution_count": 75,
   "metadata": {},
   "outputs": [
    {
     "data": {
      "text/plain": [
       "<matplotlib.axes._subplots.AxesSubplot at 0x1c1200c8d0>"
      ]
     },
     "execution_count": 75,
     "metadata": {},
     "output_type": "execute_result"
    },
    {
     "data": {
      "image/png": "[encoded data removed]",
      "text/plain": [
       "<Figure size 432x288 with 1 Axes>"
      ]
     },
     "metadata": {},
     "output_type": "display_data"
    }
   ],
   "source": [
    "sns.distplot(Age['Age 20 to 29'])"
   ]
  },
  {
   "cell_type": "code",
   "execution_count": 67,
   "metadata": {},
   "outputs": [],
   "source": [
    "########################################\n",
    "############## Bohemian ################\n",
    "########################################\n",
    "\n",
    "# Import Bohemian\n",
    "Bohemian = pd.read_csv('/Users/JoshWoodbridge/Documents/University/Oxford/Study/Michaelmas_Term/Applied_Stats/Project/Data/District/CSV/nomis_Bohemian.csv')\n",
    "\n",
    "# Filter for only inner london districts\n",
    "Bohemian = Bohemian[Bohemian['postcode districts'].isin(Inner_Ldn_districts['London_Districts'])]"
   ]
  },
  {
   "cell_type": "code",
   "execution_count": 68,
   "metadata": {},
   "outputs": [],
   "source": [
    "Bohemian = Bohemian[['postcode districts','Number_of_Bohemian']]"
   ]
  },
  {
   "cell_type": "code",
   "execution_count": 78,
   "metadata": {},
   "outputs": [
    {
     "data": {
      "text/plain": [
       "<matplotlib.axes._subplots.AxesSubplot at 0x1c2b1ba710>"
      ]
     },
     "execution_count": 78,
     "metadata": {},
     "output_type": "execute_result"
    },
    {
     "data": {
      "image/png": "[encoded data removed]",
      "text/plain": [
       "<Figure size 432x288 with 1 Axes>"
      ]
     },
     "metadata": {},
     "output_type": "display_data"
    }
   ],
   "source": [
    "sns.distplot(Bohemian['Number_of_Bohemian'])"
   ]
  },
  {
   "cell_type": "code",
   "execution_count": 77,
   "metadata": {},
   "outputs": [
    {
     "data": {
      "text/html": [
       "<div>\n",
       "<style scoped>\n",
       "    .dataframe tbody tr th:only-of-type {\n",
       "        vertical-align: middle;\n",
       "    }\n",
       "\n",
       "    .dataframe tbody tr th {\n",
       "        vertical-align: top;\n",
       "    }\n",
       "\n",
       "    .dataframe thead th {\n",
       "        text-align: right;\n",
       "    }\n",
       "</style>\n",
       "<table border=\"1\" class=\"dataframe\">\n",
       "  <thead>\n",
       "    <tr style=\"text-align: right;\">\n",
       "      <th></th>\n",
       "      <th>Number_of_Bohemian</th>\n",
       "    </tr>\n",
       "  </thead>\n",
       "  <tbody>\n",
       "    <tr>\n",
       "      <th>count</th>\n",
       "      <td>154.000000</td>\n",
       "    </tr>\n",
       "    <tr>\n",
       "      <th>mean</th>\n",
       "      <td>1995.448052</td>\n",
       "    </tr>\n",
       "    <tr>\n",
       "      <th>std</th>\n",
       "      <td>1816.175239</td>\n",
       "    </tr>\n",
       "    <tr>\n",
       "      <th>min</th>\n",
       "      <td>4.000000</td>\n",
       "    </tr>\n",
       "    <tr>\n",
       "      <th>25%</th>\n",
       "      <td>503.250000</td>\n",
       "    </tr>\n",
       "    <tr>\n",
       "      <th>50%</th>\n",
       "      <td>1491.000000</td>\n",
       "    </tr>\n",
       "    <tr>\n",
       "      <th>75%</th>\n",
       "      <td>3241.500000</td>\n",
       "    </tr>\n",
       "    <tr>\n",
       "      <th>max</th>\n",
       "      <td>8905.000000</td>\n",
       "    </tr>\n",
       "  </tbody>\n",
       "</table>\n",
       "</div>"
      ],
      "text/plain": [
       "       Number_of_Bohemian\n",
       "count          154.000000\n",
       "mean          1995.448052\n",
       "std           1816.175239\n",
       "min              4.000000\n",
       "25%            503.250000\n",
       "50%           1491.000000\n",
       "75%           3241.500000\n",
       "max           8905.000000"
      ]
     },
     "execution_count": 77,
     "metadata": {},
     "output_type": "execute_result"
    }
   ],
   "source": [
    "Bohemian.describe()"
   ]
  },
  {
   "cell_type": "code",
   "execution_count": 81,
   "metadata": {},
   "outputs": [],
   "source": [
    "########################################\n",
    "############ Unemployment ##############\n",
    "########################################\n",
    "\n",
    "# Import Bohemian\n",
    "Unemployment = pd.read_csv('/Users/JoshWoodbridge/Documents/University/Oxford/Study/Michaelmas_Term/Applied_Stats/Project/Data/District/CSV/nomis_EconomicActivity.csv')\n",
    "\n",
    "# Filter for only london districts\n",
    "Unemployment = Unemployment[Unemployment['postcode districts'].isin(Inner_Ldn_districts['London_Districts'])]\n",
    "\n",
    "# Get only relevant data\n",
    "Unemployment = Unemployment[['postcode districts','Economically active: Unemployed']]"
   ]
  },
  {
   "cell_type": "code",
   "execution_count": 83,
   "metadata": {},
   "outputs": [
    {
     "data": {
      "text/plain": [
       "<matplotlib.axes._subplots.AxesSubplot at 0x1c2b1c7d30>"
      ]
     },
     "execution_count": 83,
     "metadata": {},
     "output_type": "execute_result"
    },
    {
     "data": {
      "image/png": "[encoded data removed]",
      "text/plain": [
       "<Figure size 432x288 with 1 Axes>"
      ]
     },
     "metadata": {},
     "output_type": "display_data"
    }
   ],
   "source": [
    "sns.distplot(Unemployment['Economically active: Unemployed'])"
   ]
  },
  {
   "cell_type": "code",
   "execution_count": 84,
   "metadata": {},
   "outputs": [
    {
     "data": {
      "text/html": [
       "<div>\n",
       "<style scoped>\n",
       "    .dataframe tbody tr th:only-of-type {\n",
       "        vertical-align: middle;\n",
       "    }\n",
       "\n",
       "    .dataframe tbody tr th {\n",
       "        vertical-align: top;\n",
       "    }\n",
       "\n",
       "    .dataframe thead th {\n",
       "        text-align: right;\n",
       "    }\n",
       "</style>\n",
       "<table border=\"1\" class=\"dataframe\">\n",
       "  <thead>\n",
       "    <tr style=\"text-align: right;\">\n",
       "      <th></th>\n",
       "      <th>Economically active: Unemployed</th>\n",
       "    </tr>\n",
       "  </thead>\n",
       "  <tbody>\n",
       "    <tr>\n",
       "      <th>count</th>\n",
       "      <td>154.000000</td>\n",
       "    </tr>\n",
       "    <tr>\n",
       "      <th>mean</th>\n",
       "      <td>1327.883117</td>\n",
       "    </tr>\n",
       "    <tr>\n",
       "      <th>std</th>\n",
       "      <td>1146.200800</td>\n",
       "    </tr>\n",
       "    <tr>\n",
       "      <th>min</th>\n",
       "      <td>4.000000</td>\n",
       "    </tr>\n",
       "    <tr>\n",
       "      <th>25%</th>\n",
       "      <td>294.750000</td>\n",
       "    </tr>\n",
       "    <tr>\n",
       "      <th>50%</th>\n",
       "      <td>1153.500000</td>\n",
       "    </tr>\n",
       "    <tr>\n",
       "      <th>75%</th>\n",
       "      <td>2110.750000</td>\n",
       "    </tr>\n",
       "    <tr>\n",
       "      <th>max</th>\n",
       "      <td>4856.000000</td>\n",
       "    </tr>\n",
       "  </tbody>\n",
       "</table>\n",
       "</div>"
      ],
      "text/plain": [
       "       Economically active: Unemployed\n",
       "count                       154.000000\n",
       "mean                       1327.883117\n",
       "std                        1146.200800\n",
       "min                           4.000000\n",
       "25%                         294.750000\n",
       "50%                        1153.500000\n",
       "75%                        2110.750000\n",
       "max                        4856.000000"
      ]
     },
     "execution_count": 84,
     "metadata": {},
     "output_type": "execute_result"
    }
   ],
   "source": [
    "Unemployment.describe()"
   ]
  },
  {
   "cell_type": "code",
   "execution_count": 85,
   "metadata": {},
   "outputs": [],
   "source": [
    "########################################\n",
    "################ Race ##################\n",
    "########################################\n",
    "\n",
    "# Import Race\n",
    "Race = pd.read_csv('/Users/JoshWoodbridge/Documents/University/Oxford/Study/Michaelmas_Term/Applied_Stats/Project/Data/District/CSV/nomis_EthnicGroup.csv')\n",
    "\n",
    "# Filter for only london districts\n",
    "Race = Race[Race['postcode districts'].isin(Inner_Ldn_districts['London_Districts'])]\n",
    "\n",
    "# Get relevant variables \n",
    "Race = Race[['postcode districts','White','Mixed/multiple ethnic groups','Asian/Asian British','Black/African/Caribbean/Black British','Other ethnic group']]\n",
    "\n",
    "# # Create dummy variables \n",
    "Race_test = Race[['White','Mixed/multiple ethnic groups','Asian/Asian British','Black/African/Caribbean/Black British','Other ethnic group']]\n",
    "Race2 = Race[['postcode districts']]\n",
    "greatest = Race_test.idxmax(axis=1)\n",
    "Race_test['Greatest'] = greatest\n",
    "test = pd.get_dummies(Race_test['Greatest'])\n",
    "Race = pd.concat([Race2, test],axis = 1)"
   ]
  },
  {
   "cell_type": "code",
   "execution_count": 86,
   "metadata": {},
   "outputs": [
    {
     "data": {
      "text/plain": [
       "Asian/Asian British                        6\n",
       "Black/African/Caribbean/Black British      1\n",
       "White                                    147\n",
       "dtype: int64"
      ]
     },
     "metadata": {},
     "output_type": "display_data"
    }
   ],
   "source": [
    "display(greatest.groupby(greatest).count())"
   ]
  },
  {
   "cell_type": "code",
   "execution_count": 88,
   "metadata": {},
   "outputs": [],
   "source": [
    "########################################\n",
    "########### Qualifications #############\n",
    "########################################\n",
    "\n",
    "# Import qualifications\n",
    "Qualification = pd.read_csv('/Users/JoshWoodbridge/Documents/University/Oxford/Study/Michaelmas_Term/Applied_Stats/Project/Data/District/CSV/nomis_Qualification.csv')\n",
    "\n",
    "# Filter for only london districts\n",
    "Qualification = Qualification[Qualification['postcode districts'].isin(Inner_Ldn_districts['London_Districts'])]\n",
    "\n",
    "# Get relevant variables \n",
    "Qualification = Qualification[['postcode districts','Highest level of qualification: Level 4 qualifications and above']]"
   ]
  },
  {
   "cell_type": "code",
   "execution_count": 91,
   "metadata": {},
   "outputs": [
    {
     "data": {
      "text/plain": [
       "<matplotlib.axes._subplots.AxesSubplot at 0x1c136635f8>"
      ]
     },
     "execution_count": 91,
     "metadata": {},
     "output_type": "execute_result"
    },
    {
     "data": {
      "image/png": "[encoded data removed]",
      "text/plain": [
       "<Figure size 432x288 with 1 Axes>"
      ]
     },
     "metadata": {},
     "output_type": "display_data"
    }
   ],
   "source": [
    "sns.distplot(Qualification['Highest level of qualification: Level 4 qualifications and above'])"
   ]
  },
  {
   "cell_type": "code",
   "execution_count": null,
   "metadata": {},
   "outputs": [],
   "source": [
    "Qualification.describe()"
   ]
  },
  {
   "cell_type": "code",
   "execution_count": 140,
   "metadata": {},
   "outputs": [],
   "source": [
    "########################################\n",
    "############# Population ###############\n",
    "########################################\n",
    "\n",
    "# Import population\n",
    "Population = pd.read_csv('/Users/JoshWoodbridge/Documents/University/Oxford/Study/Michaelmas_Term/Applied_Stats/Project/Data/District/CSV/nomis_Population.csv')\n",
    "\n",
    "# Filter for only london districts\n",
    "Population = Population[Population['postcode districts'].isin(Inner_Ldn_districts['London_Districts'])]\n",
    "\n",
    "# Format\n",
    "Population['Population'] = Population['Population'].apply(lambda x: int(x))"
   ]
  },
  {
   "cell_type": "code",
   "execution_count": 217,
   "metadata": {},
   "outputs": [
    {
     "data": {
      "text/plain": [
       "<matplotlib.axes._subplots.AxesSubplot at 0x1c2a328be0>"
      ]
     },
     "execution_count": 217,
     "metadata": {},
     "output_type": "execute_result"
    },
    {
     "data": {
      "image/png": "[encoded data removed]",
      "text/plain": [
       "<Figure size 432x288 with 1 Axes>"
      ]
     },
     "metadata": {},
     "output_type": "display_data"
    }
   ],
   "source": [
    "Population.plot.hist()"
   ]
  },
  {
   "cell_type": "code",
   "execution_count": null,
   "metadata": {},
   "outputs": [],
   "source": [
    "########################################\n",
    "############### Relgion ################\n",
    "########################################\n",
    "\n",
    "## optional \n",
    "\n",
    "# Import religion\n",
    "Religion = pd.read_csv('/Users/JoshWoodbridge/Documents/University/Oxford/Study/Michaelmas_Term/Applied_Stats/Project/Data/District/CSV/nomis_Religion.csv')\n",
    "\n",
    "# Filter for only london districts\n",
    "Religion = Religion[Religion['postcode districts'].isin(Inner_Ldn_districts['London_Districts'])]\n",
    "\n",
    "# Get relevant variables \n",
    "# Religion = Religion[['postcode districts','Pecentage of level 4+']]"
   ]
  },
  {
   "cell_type": "code",
   "execution_count": null,
   "metadata": {},
   "outputs": [],
   "source": [
    "Religion_test = Religion[['Has religion','Christian','Buddhist','Hindu','Jewish','Muslim','Sikh','Other religion','No religion','Religion not stated']]"
   ]
  },
  {
   "cell_type": "code",
   "execution_count": null,
   "metadata": {},
   "outputs": [],
   "source": [
    "greatest = Religion_test.idxmax(axis=1)"
   ]
  },
  {
   "cell_type": "markdown",
   "metadata": {},
   "source": [
    "## Merge variables"
   ]
  },
  {
   "cell_type": "code",
   "execution_count": 141,
   "metadata": {},
   "outputs": [],
   "source": [
    "# Add distance to center to number of listings \n",
    "df1 = Listings_by_district.merge(distances,right_on ='postcode',left_index = True, how = 'inner') \n",
    "df1 = df1.rename(index=str, columns={\"number_of_reviews\": \"Listings\"})\n",
    "\n",
    "# Add Age (young)\n",
    "df2 = df1.merge(Age,left_on = 'postcode',right_on = 'postcode districts',how = 'inner')\n",
    "\n",
    "# Add Bohemian\n",
    "df3 = df2.merge(Bohemian, left_on = 'postcode',right_on = 'postcode districts',how = 'inner')\n",
    "\n",
    "# Add Unemployment\n",
    "df4 = df3.merge(Unemployment, left_on = 'postcode', right_on = 'postcode districts', how = 'inner')\n",
    "\n",
    "# format\n",
    "df4 = df4.drop(['postcode districts_x','postcode districts_y','postcode districts'],axis =1)\n",
    "\n",
    "# Add Race\n",
    "df5 = df4.merge(Race, left_on = 'postcode', right_on = 'postcode districts', how = 'inner')\n",
    "\n",
    "# Add Qualifications\n",
    "df6 = df5.merge(Qualification, left_on = 'postcode', right_on = 'postcode districts', how = 'inner')\n",
    "\n",
    "# Add Population\n",
    "df7 = df6.merge(Population, left_on = 'postcode', right_on = 'postcode districts', how = 'inner')\n",
    "\n",
    "\n",
    "# format\n",
    "df7 = df7.drop(['postcode districts_x','postcode districts_y','postcode districts'],axis =1)\n",
    "df7 = df7.rename(index = str, columns = {'Number_of_Bohemian': 'Bohemian'})\n",
    "df7 = df7.rename(index = str, columns = {'Highest level of qualification: Level 4 qualifications and above': 'Qualification'})\n",
    "df7 = df7.rename(index = str, columns = {'Black/African/Caribbean/Black British': 'Black'})\n",
    "df7 = df7.rename(index = str, columns = {'Asian/Asian British': 'Asian'})\n",
    "df7 = df7.rename(index = str, columns = {'Economically active: Unemployed': 'Unemployed'})\n",
    "df7 = df7.rename(index = str, columns = {'Age 20 to 29': 'Young'})"
   ]
  },
  {
   "cell_type": "code",
   "execution_count": 143,
   "metadata": {},
   "outputs": [],
   "source": [
    "import pickle \n",
    "filename = 'censusdf'\n",
    "outfile = open(filename,'wb')\n",
    "pickle.dump(df7,outfile)\n",
    "outfile.close()"
   ]
  },
  {
   "cell_type": "code",
   "execution_count": 154,
   "metadata": {},
   "outputs": [
    {
     "data": {
      "text/html": [
       "<div>\n",
       "<style scoped>\n",
       "    .dataframe tbody tr th:only-of-type {\n",
       "        vertical-align: middle;\n",
       "    }\n",
       "\n",
       "    .dataframe tbody tr th {\n",
       "        vertical-align: top;\n",
       "    }\n",
       "\n",
       "    .dataframe thead th {\n",
       "        text-align: right;\n",
       "    }\n",
       "</style>\n",
       "<table border=\"1\" class=\"dataframe\">\n",
       "  <thead>\n",
       "    <tr style=\"text-align: right;\">\n",
       "      <th></th>\n",
       "      <th>Listings</th>\n",
       "      <th>postcode</th>\n",
       "      <th>Distances</th>\n",
       "      <th>Young</th>\n",
       "      <th>Bohemian</th>\n",
       "      <th>Unemployed</th>\n",
       "      <th>Asian</th>\n",
       "      <th>Black</th>\n",
       "      <th>White</th>\n",
       "      <th>Qualification</th>\n",
       "      <th>Population</th>\n",
       "    </tr>\n",
       "  </thead>\n",
       "  <tbody>\n",
       "    <tr>\n",
       "      <th>0</th>\n",
       "      <td>2831</td>\n",
       "      <td>E1</td>\n",
       "      <td>12.106606</td>\n",
       "      <td>21475.0</td>\n",
       "      <td>3865.0</td>\n",
       "      <td>3702.0</td>\n",
       "      <td>1</td>\n",
       "      <td>0</td>\n",
       "      <td>0</td>\n",
       "      <td>20771.0</td>\n",
       "      <td>70389</td>\n",
       "    </tr>\n",
       "    <tr>\n",
       "      <th>1</th>\n",
       "      <td>257</td>\n",
       "      <td>E10</td>\n",
       "      <td>10.911819</td>\n",
       "      <td>9275.0</td>\n",
       "      <td>1090.0</td>\n",
       "      <td>2112.0</td>\n",
       "      <td>0</td>\n",
       "      <td>0</td>\n",
       "      <td>1</td>\n",
       "      <td>9955.0</td>\n",
       "      <td>43120</td>\n",
       "    </tr>\n",
       "    <tr>\n",
       "      <th>2</th>\n",
       "      <td>307</td>\n",
       "      <td>E11</td>\n",
       "      <td>9.481475</td>\n",
       "      <td>11110.0</td>\n",
       "      <td>2483.0</td>\n",
       "      <td>2442.0</td>\n",
       "      <td>0</td>\n",
       "      <td>0</td>\n",
       "      <td>1</td>\n",
       "      <td>17597.0</td>\n",
       "      <td>54689</td>\n",
       "    </tr>\n",
       "    <tr>\n",
       "      <th>3</th>\n",
       "      <td>95</td>\n",
       "      <td>E12</td>\n",
       "      <td>6.130452</td>\n",
       "      <td>9206.0</td>\n",
       "      <td>530.0</td>\n",
       "      <td>2127.0</td>\n",
       "      <td>1</td>\n",
       "      <td>0</td>\n",
       "      <td>0</td>\n",
       "      <td>9535.0</td>\n",
       "      <td>42606</td>\n",
       "    </tr>\n",
       "    <tr>\n",
       "      <th>4</th>\n",
       "      <td>176</td>\n",
       "      <td>E13</td>\n",
       "      <td>6.417922</td>\n",
       "      <td>10310.0</td>\n",
       "      <td>521.0</td>\n",
       "      <td>2573.0</td>\n",
       "      <td>1</td>\n",
       "      <td>0</td>\n",
       "      <td>0</td>\n",
       "      <td>9719.0</td>\n",
       "      <td>47169</td>\n",
       "    </tr>\n",
       "  </tbody>\n",
       "</table>\n",
       "</div>"
      ],
      "text/plain": [
       "   Listings postcode  Distances    Young  Bohemian  Unemployed  Asian  Black  \\\n",
       "0      2831       E1  12.106606  21475.0    3865.0      3702.0      1      0   \n",
       "1       257      E10  10.911819   9275.0    1090.0      2112.0      0      0   \n",
       "2       307      E11   9.481475  11110.0    2483.0      2442.0      0      0   \n",
       "3        95      E12   6.130452   9206.0     530.0      2127.0      1      0   \n",
       "4       176      E13   6.417922  10310.0     521.0      2573.0      1      0   \n",
       "\n",
       "   White  Qualification  Population  \n",
       "0      0        20771.0       70389  \n",
       "1      1         9955.0       43120  \n",
       "2      1        17597.0       54689  \n",
       "3      0         9535.0       42606  \n",
       "4      0         9719.0       47169  "
      ]
     },
     "execution_count": 154,
     "metadata": {},
     "output_type": "execute_result"
    }
   ],
   "source": [
    "df7.head()"
   ]
  },
  {
   "cell_type": "markdown",
   "metadata": {},
   "source": [
    "## Models"
   ]
  },
  {
   "cell_type": "code",
   "execution_count": 101,
   "metadata": {},
   "outputs": [
    {
     "name": "stdout",
     "output_type": "stream",
     "text": [
      "                            OLS Regression Results                            \n",
      "==============================================================================\n",
      "Dep. Variable:               Listings   R-squared:                       0.503\n",
      "Model:                            OLS   Adj. R-squared:                  0.499\n",
      "Method:                 Least Squares   F-statistic:                     153.6\n",
      "Date:                Thu, 13 Dec 2018   Prob (F-statistic):           8.11e-25\n",
      "Time:                        12:16:50   Log-Likelihood:                -1115.2\n",
      "No. Observations:                 154   AIC:                             2234.\n",
      "Df Residuals:                     152   BIC:                             2241.\n",
      "Df Model:                           1                                         \n",
      "Covariance Type:            nonrobust                                         \n",
      "==============================================================================\n",
      "                 coef    std err          t      P>|t|      [0.025      0.975]\n",
      "------------------------------------------------------------------------------\n",
      "Intercept     46.3108     40.797      1.135      0.258     -34.291     126.912\n",
      "Bohemian       0.1876      0.015     12.392      0.000       0.158       0.218\n",
      "==============================================================================\n",
      "Omnibus:                      116.056   Durbin-Watson:                   1.491\n",
      "Prob(Omnibus):                  0.000   Jarque-Bera (JB):             1124.968\n",
      "Skew:                           2.676   Prob(JB):                    5.20e-245\n",
      "Kurtosis:                      15.111   Cond. No.                     4.01e+03\n",
      "==============================================================================\n",
      "\n",
      "Warnings:\n",
      "[1] Standard Errors assume that the covariance matrix of the errors is correctly specified.\n",
      "[2] The condition number is large, 4.01e+03. This might indicate that there are\n",
      "strong multicollinearity or other numerical problems.\n"
     ]
    }
   ],
   "source": [
    "#########################################\n",
    "#### Multivariate, linear, no control ###\n",
    "#########################################\n",
    "\n",
    "r = smf.ols('Listings ~ Bohemian', data = df7).fit()\n",
    "print(r.summary())\n"
   ]
  },
  {
   "cell_type": "code",
   "execution_count": 220,
   "metadata": {},
   "outputs": [
    {
     "name": "stdout",
     "output_type": "stream",
     "text": [
      "                            OLS Regression Results                            \n",
      "==============================================================================\n",
      "Dep. Variable:               Listings   R-squared:                       0.727\n",
      "Model:                            OLS   Adj. R-squared:                  0.712\n",
      "Method:                 Least Squares   F-statistic:                     48.23\n",
      "Date:                Sat, 15 Dec 2018   Prob (F-statistic):           3.71e-37\n",
      "Time:                        16:59:50   Log-Likelihood:                -1069.1\n",
      "No. Observations:                 154   AIC:                             2156.\n",
      "Df Residuals:                     145   BIC:                             2184.\n",
      "Df Model:                           8                                         \n",
      "Covariance Type:            nonrobust                                         \n",
      "=================================================================================\n",
      "                    coef    std err          t      P>|t|      [0.025      0.975]\n",
      "---------------------------------------------------------------------------------\n",
      "Intercept       -33.1686     85.521     -0.388      0.699    -202.198     135.860\n",
      "Bohemian          0.0741      0.029      2.594      0.010       0.018       0.131\n",
      "Distances         6.2016      4.768      1.301      0.195      -3.222      15.625\n",
      "Young             0.1174      0.018      6.442      0.000       0.081       0.153\n",
      "Unemployed        0.1952      0.114      1.717      0.088      -0.030       0.420\n",
      "Asian           -25.0521    129.060     -0.194      0.846    -280.134     230.029\n",
      "Black           -54.3334    271.301     -0.200      0.842    -590.549     481.882\n",
      "Qualification     0.0238      0.016      1.516      0.132      -0.007       0.055\n",
      "Population       -0.0338      0.007     -5.067      0.000      -0.047      -0.021\n",
      "==============================================================================\n",
      "Omnibus:                       90.244   Durbin-Watson:                   1.872\n",
      "Prob(Omnibus):                  0.000   Jarque-Bera (JB):              693.239\n",
      "Skew:                           1.977   Prob(JB):                    2.92e-151\n",
      "Kurtosis:                      12.613   Cond. No.                     5.54e+05\n",
      "==============================================================================\n",
      "\n",
      "Warnings:\n",
      "[1] Standard Errors assume that the covariance matrix of the errors is correctly specified.\n",
      "[2] The condition number is large, 5.54e+05. This might indicate that there are\n",
      "strong multicollinearity or other numerical problems.\n"
     ]
    }
   ],
   "source": [
    "#########################################\n",
    "#### Multivariate, linear, controls #####\n",
    "#########################################\n",
    "\n",
    "q = smf.ols('Listings ~ Bohemian+Distances+Young+Unemployed+Asian+Black+Qualification+Population', data = df7).fit()\n",
    "print(q.summary())\n",
    "# print(q.fittedvalues)\n"
   ]
  },
  {
   "cell_type": "code",
   "execution_count": 206,
   "metadata": {},
   "outputs": [
    {
     "data": {
      "text/html": [
       "<div>\n",
       "<style scoped>\n",
       "    .dataframe tbody tr th:only-of-type {\n",
       "        vertical-align: middle;\n",
       "    }\n",
       "\n",
       "    .dataframe tbody tr th {\n",
       "        vertical-align: top;\n",
       "    }\n",
       "\n",
       "    .dataframe thead th {\n",
       "        text-align: right;\n",
       "    }\n",
       "</style>\n",
       "<table border=\"1\" class=\"dataframe\">\n",
       "  <thead>\n",
       "    <tr style=\"text-align: right;\">\n",
       "      <th></th>\n",
       "      <th>Listings</th>\n",
       "      <th>postcode</th>\n",
       "      <th>Distances</th>\n",
       "      <th>Young</th>\n",
       "      <th>Bohemian</th>\n",
       "      <th>Unemployed</th>\n",
       "      <th>Asian</th>\n",
       "      <th>Black</th>\n",
       "      <th>White</th>\n",
       "      <th>Qualification</th>\n",
       "      <th>Population</th>\n",
       "    </tr>\n",
       "  </thead>\n",
       "  <tbody>\n",
       "    <tr>\n",
       "      <th>0</th>\n",
       "      <td>2831</td>\n",
       "      <td>E1</td>\n",
       "      <td>12.106606</td>\n",
       "      <td>21475.0</td>\n",
       "      <td>3865.0</td>\n",
       "      <td>3702.0</td>\n",
       "      <td>1</td>\n",
       "      <td>0</td>\n",
       "      <td>0</td>\n",
       "      <td>20771.0</td>\n",
       "      <td>70389</td>\n",
       "    </tr>\n",
       "    <tr>\n",
       "      <th>1</th>\n",
       "      <td>257</td>\n",
       "      <td>E10</td>\n",
       "      <td>10.911819</td>\n",
       "      <td>9275.0</td>\n",
       "      <td>1090.0</td>\n",
       "      <td>2112.0</td>\n",
       "      <td>0</td>\n",
       "      <td>0</td>\n",
       "      <td>1</td>\n",
       "      <td>9955.0</td>\n",
       "      <td>43120</td>\n",
       "    </tr>\n",
       "    <tr>\n",
       "      <th>2</th>\n",
       "      <td>307</td>\n",
       "      <td>E11</td>\n",
       "      <td>9.481475</td>\n",
       "      <td>11110.0</td>\n",
       "      <td>2483.0</td>\n",
       "      <td>2442.0</td>\n",
       "      <td>0</td>\n",
       "      <td>0</td>\n",
       "      <td>1</td>\n",
       "      <td>17597.0</td>\n",
       "      <td>54689</td>\n",
       "    </tr>\n",
       "    <tr>\n",
       "      <th>3</th>\n",
       "      <td>95</td>\n",
       "      <td>E12</td>\n",
       "      <td>6.130452</td>\n",
       "      <td>9206.0</td>\n",
       "      <td>530.0</td>\n",
       "      <td>2127.0</td>\n",
       "      <td>1</td>\n",
       "      <td>0</td>\n",
       "      <td>0</td>\n",
       "      <td>9535.0</td>\n",
       "      <td>42606</td>\n",
       "    </tr>\n",
       "    <tr>\n",
       "      <th>4</th>\n",
       "      <td>176</td>\n",
       "      <td>E13</td>\n",
       "      <td>6.417922</td>\n",
       "      <td>10310.0</td>\n",
       "      <td>521.0</td>\n",
       "      <td>2573.0</td>\n",
       "      <td>1</td>\n",
       "      <td>0</td>\n",
       "      <td>0</td>\n",
       "      <td>9719.0</td>\n",
       "      <td>47169</td>\n",
       "    </tr>\n",
       "  </tbody>\n",
       "</table>\n",
       "</div>"
      ],
      "text/plain": [
       "   Listings postcode  Distances    Young  Bohemian  Unemployed  Asian  Black  \\\n",
       "0      2831       E1  12.106606  21475.0    3865.0      3702.0      1      0   \n",
       "1       257      E10  10.911819   9275.0    1090.0      2112.0      0      0   \n",
       "2       307      E11   9.481475  11110.0    2483.0      2442.0      0      0   \n",
       "3        95      E12   6.130452   9206.0     530.0      2127.0      1      0   \n",
       "4       176      E13   6.417922  10310.0     521.0      2573.0      1      0   \n",
       "\n",
       "   White  Qualification  Population  \n",
       "0      0        20771.0       70389  \n",
       "1      1         9955.0       43120  \n",
       "2      1        17597.0       54689  \n",
       "3      0         9535.0       42606  \n",
       "4      0         9719.0       47169  "
      ]
     },
     "execution_count": 206,
     "metadata": {},
     "output_type": "execute_result"
    }
   ],
   "source": [
    "df7.head()"
   ]
  },
  {
   "cell_type": "code",
   "execution_count": 209,
   "metadata": {},
   "outputs": [],
   "source": [
    "#########################################\n",
    "##### Multivariate log transformed ######\n",
    "#########################################\n",
    "import math\n",
    "# take log of appropriate varialbes \n",
    "\n",
    "log_df7 = df7.copy(deep=True)"
   ]
  },
  {
   "cell_type": "code",
   "execution_count": 210,
   "metadata": {},
   "outputs": [],
   "source": [
    "log_df7['Listings'] = log_df7['Listings'].apply(lambda x: math.log10(x))"
   ]
  },
  {
   "cell_type": "code",
   "execution_count": 212,
   "metadata": {},
   "outputs": [],
   "source": [
    "log_df7['Young'] = log_df7['Young'].apply(lambda x: math.log10(x))"
   ]
  },
  {
   "cell_type": "code",
   "execution_count": 213,
   "metadata": {},
   "outputs": [],
   "source": [
    "log_df7['Bohemian'] = log_df7['Bohemian'].apply(lambda x: math.log10(x))"
   ]
  },
  {
   "cell_type": "code",
   "execution_count": 214,
   "metadata": {},
   "outputs": [],
   "source": [
    "log_df7['Qualification'] = log_df7['Qualification'].apply(lambda x: math.log10(x))"
   ]
  },
  {
   "cell_type": "code",
   "execution_count": 215,
   "metadata": {},
   "outputs": [],
   "source": [
    "log_df7['Unemployed'] = log_df7['Unemployed'].apply(lambda x: math.log10(x))"
   ]
  },
  {
   "cell_type": "code",
   "execution_count": 218,
   "metadata": {},
   "outputs": [],
   "source": [
    "log_df7['Population'] = log_df7['Population'].apply(lambda x: math.log10(x))"
   ]
  },
  {
   "cell_type": "code",
   "execution_count": 264,
   "metadata": {},
   "outputs": [
    {
     "name": "stdout",
     "output_type": "stream",
     "text": [
      "                            OLS Regression Results                            \n",
      "==============================================================================\n",
      "Dep. Variable:               Listings   R-squared:                       0.777\n",
      "Model:                            OLS   Adj. R-squared:                  0.764\n",
      "Method:                 Least Squares   F-statistic:                     62.97\n",
      "Date:                Sun, 16 Dec 2018   Prob (F-statistic):           2.17e-43\n",
      "Time:                        15:32:09   Log-Likelihood:                0.27460\n",
      "No. Observations:                 154   AIC:                             17.45\n",
      "Df Residuals:                     145   BIC:                             44.78\n",
      "Df Model:                           8                                         \n",
      "Covariance Type:            nonrobust                                         \n",
      "=================================================================================\n",
      "                    coef    std err          t      P>|t|      [0.025      0.975]\n",
      "---------------------------------------------------------------------------------\n",
      "Intercept         2.0507      0.385      5.330      0.000       1.290       2.811\n",
      "Bohemian          0.4733      0.118      4.002      0.000       0.240       0.707\n",
      "Distances         0.0002      0.004      0.052      0.958      -0.009       0.009\n",
      "Young             1.4519      0.205      7.090      0.000       1.047       1.857\n",
      "Unemployed        0.5495      0.225      2.447      0.016       0.106       0.993\n",
      "Asian            -0.0348      0.118     -0.294      0.769      -0.268       0.199\n",
      "Black             0.0786      0.252      0.312      0.755      -0.419       0.576\n",
      "Qualification     0.9258      0.315      2.938      0.004       0.303       1.549\n",
      "Population       -2.6716      0.377     -7.089      0.000      -3.417      -1.927\n",
      "==============================================================================\n",
      "Omnibus:                        1.222   Durbin-Watson:                   1.584\n",
      "Prob(Omnibus):                  0.543   Jarque-Bera (JB):                1.021\n",
      "Skew:                          -0.199   Prob(JB):                        0.600\n",
      "Kurtosis:                       3.039   Cond. No.                         572.\n",
      "==============================================================================\n",
      "\n",
      "Warnings:\n",
      "[1] Standard Errors assume that the covariance matrix of the errors is correctly specified.\n"
     ]
    }
   ],
   "source": [
    "# fit model and show summary\n",
    "r = smf.ols('Listings ~ Bohemian+Distances+Young+Unemployed+Asian+Black+Qualification+Population', data = log_df7).fit()\n",
    "print(r.summary())\n",
    "# print(r.resid)\n",
    "# print(q.fittedvalues)\n"
   ]
  },
  {
   "cell_type": "code",
   "execution_count": 284,
   "metadata": {},
   "outputs": [
    {
     "data": {
      "text/html": [
       "<div>\n",
       "<style scoped>\n",
       "    .dataframe tbody tr th:only-of-type {\n",
       "        vertical-align: middle;\n",
       "    }\n",
       "\n",
       "    .dataframe tbody tr th {\n",
       "        vertical-align: top;\n",
       "    }\n",
       "\n",
       "    .dataframe thead th {\n",
       "        text-align: right;\n",
       "    }\n",
       "</style>\n",
       "<table border=\"1\" class=\"dataframe\">\n",
       "  <thead>\n",
       "    <tr style=\"text-align: right;\">\n",
       "      <th></th>\n",
       "      <th>Listings</th>\n",
       "      <th>postcode</th>\n",
       "      <th>Distances</th>\n",
       "      <th>Young</th>\n",
       "      <th>Bohemian</th>\n",
       "      <th>Unemployed</th>\n",
       "      <th>Asian</th>\n",
       "      <th>Black</th>\n",
       "      <th>White</th>\n",
       "      <th>Qualification</th>\n",
       "      <th>Population</th>\n",
       "    </tr>\n",
       "  </thead>\n",
       "  <tbody>\n",
       "    <tr>\n",
       "      <th>0</th>\n",
       "      <td>3.451940</td>\n",
       "      <td>E1</td>\n",
       "      <td>12.106606</td>\n",
       "      <td>4.331933</td>\n",
       "      <td>3.587149</td>\n",
       "      <td>3.568436</td>\n",
       "      <td>1</td>\n",
       "      <td>0</td>\n",
       "      <td>0</td>\n",
       "      <td>4.317457</td>\n",
       "      <td>4.847505</td>\n",
       "    </tr>\n",
       "    <tr>\n",
       "      <th>1</th>\n",
       "      <td>2.409933</td>\n",
       "      <td>E10</td>\n",
       "      <td>10.911819</td>\n",
       "      <td>3.967314</td>\n",
       "      <td>3.037426</td>\n",
       "      <td>3.324694</td>\n",
       "      <td>0</td>\n",
       "      <td>0</td>\n",
       "      <td>1</td>\n",
       "      <td>3.998041</td>\n",
       "      <td>4.634679</td>\n",
       "    </tr>\n",
       "    <tr>\n",
       "      <th>2</th>\n",
       "      <td>2.487138</td>\n",
       "      <td>E11</td>\n",
       "      <td>9.481475</td>\n",
       "      <td>4.045714</td>\n",
       "      <td>3.394977</td>\n",
       "      <td>3.387746</td>\n",
       "      <td>0</td>\n",
       "      <td>0</td>\n",
       "      <td>1</td>\n",
       "      <td>4.245439</td>\n",
       "      <td>4.737900</td>\n",
       "    </tr>\n",
       "    <tr>\n",
       "      <th>3</th>\n",
       "      <td>1.977724</td>\n",
       "      <td>E12</td>\n",
       "      <td>6.130452</td>\n",
       "      <td>3.964071</td>\n",
       "      <td>2.724276</td>\n",
       "      <td>3.327767</td>\n",
       "      <td>1</td>\n",
       "      <td>0</td>\n",
       "      <td>0</td>\n",
       "      <td>3.979321</td>\n",
       "      <td>4.629471</td>\n",
       "    </tr>\n",
       "    <tr>\n",
       "      <th>4</th>\n",
       "      <td>2.245513</td>\n",
       "      <td>E13</td>\n",
       "      <td>6.417922</td>\n",
       "      <td>4.013259</td>\n",
       "      <td>2.716838</td>\n",
       "      <td>3.410440</td>\n",
       "      <td>1</td>\n",
       "      <td>0</td>\n",
       "      <td>0</td>\n",
       "      <td>3.987622</td>\n",
       "      <td>4.673657</td>\n",
       "    </tr>\n",
       "  </tbody>\n",
       "</table>\n",
       "</div>"
      ],
      "text/plain": [
       "   Listings postcode  Distances     Young  Bohemian  Unemployed  Asian  Black  \\\n",
       "0  3.451940       E1  12.106606  4.331933  3.587149    3.568436      1      0   \n",
       "1  2.409933      E10  10.911819  3.967314  3.037426    3.324694      0      0   \n",
       "2  2.487138      E11   9.481475  4.045714  3.394977    3.387746      0      0   \n",
       "3  1.977724      E12   6.130452  3.964071  2.724276    3.327767      1      0   \n",
       "4  2.245513      E13   6.417922  4.013259  2.716838    3.410440      1      0   \n",
       "\n",
       "   White  Qualification  Population  \n",
       "0      0       4.317457    4.847505  \n",
       "1      1       3.998041    4.634679  \n",
       "2      1       4.245439    4.737900  \n",
       "3      0       3.979321    4.629471  \n",
       "4      0       3.987622    4.673657  "
      ]
     },
     "execution_count": 284,
     "metadata": {},
     "output_type": "execute_result"
    }
   ],
   "source": [
    "log_df7.head()"
   ]
  },
  {
   "cell_type": "code",
   "execution_count": 223,
   "metadata": {},
   "outputs": [],
   "source": [
    "ols_log_resid = r.fittedvalues"
   ]
  },
  {
   "cell_type": "code",
   "execution_count": 286,
   "metadata": {},
   "outputs": [],
   "source": [
    "testdf = log_df7.drop('postcode', axis = 1)"
   ]
  },
  {
   "cell_type": "code",
   "execution_count": 290,
   "metadata": {},
   "outputs": [],
   "source": [
    "from patsy import dmatrices\n",
    "import statsmodels.api as sm\n",
    "from statsmodels.stats.outliers_influence import variance_inflation_factor"
   ]
  },
  {
   "cell_type": "code",
   "execution_count": 370,
   "metadata": {},
   "outputs": [],
   "source": [
    "### test for multicollianearity on raw data\n",
    "from statsmodels.stats.outliers_influence import variance_inflation_factor\n",
    "y, X = dmatrices('Listings ~ Bohemian+Distances+Young+Unemployed+Asian+Black+Qualification+Population', df7, return_type='dataframe')\n",
    "\n"
   ]
  },
  {
   "cell_type": "code",
   "execution_count": 371,
   "metadata": {},
   "outputs": [],
   "source": [
    "vif = pd.DataFrame()\n",
    "vif[\"VIF Factor\"] = [variance_inflation_factor(X.values, i) for i in range(X.shape[1])]\n",
    "vif[\"features\"] = X.columns"
   ]
  },
  {
   "cell_type": "code",
   "execution_count": 372,
   "metadata": {},
   "outputs": [
    {
     "data": {
      "text/html": [
       "<div>\n",
       "<style scoped>\n",
       "    .dataframe tbody tr th:only-of-type {\n",
       "        vertical-align: middle;\n",
       "    }\n",
       "\n",
       "    .dataframe tbody tr th {\n",
       "        vertical-align: top;\n",
       "    }\n",
       "\n",
       "    .dataframe thead th {\n",
       "        text-align: right;\n",
       "    }\n",
       "</style>\n",
       "<table border=\"1\" class=\"dataframe\">\n",
       "  <thead>\n",
       "    <tr style=\"text-align: right;\">\n",
       "      <th></th>\n",
       "      <th>VIF Factor</th>\n",
       "      <th>features</th>\n",
       "    </tr>\n",
       "  </thead>\n",
       "  <tbody>\n",
       "    <tr>\n",
       "      <th>0</th>\n",
       "      <td>16.9</td>\n",
       "      <td>Intercept</td>\n",
       "    </tr>\n",
       "    <tr>\n",
       "      <th>1</th>\n",
       "      <td>6.2</td>\n",
       "      <td>Bohemian</td>\n",
       "    </tr>\n",
       "    <tr>\n",
       "      <th>2</th>\n",
       "      <td>1.6</td>\n",
       "      <td>Distances</td>\n",
       "    </tr>\n",
       "    <tr>\n",
       "      <th>3</th>\n",
       "      <td>22.2</td>\n",
       "      <td>Young</td>\n",
       "    </tr>\n",
       "    <tr>\n",
       "      <th>4</th>\n",
       "      <td>39.0</td>\n",
       "      <td>Unemployed</td>\n",
       "    </tr>\n",
       "    <tr>\n",
       "      <th>5</th>\n",
       "      <td>1.4</td>\n",
       "      <td>Asian</td>\n",
       "    </tr>\n",
       "    <tr>\n",
       "      <th>6</th>\n",
       "      <td>1.1</td>\n",
       "      <td>Black</td>\n",
       "    </tr>\n",
       "    <tr>\n",
       "      <th>7</th>\n",
       "      <td>38.8</td>\n",
       "      <td>Qualification</td>\n",
       "    </tr>\n",
       "    <tr>\n",
       "      <th>8</th>\n",
       "      <td>58.1</td>\n",
       "      <td>Population</td>\n",
       "    </tr>\n",
       "  </tbody>\n",
       "</table>\n",
       "</div>"
      ],
      "text/plain": [
       "   VIF Factor       features\n",
       "0        16.9      Intercept\n",
       "1         6.2       Bohemian\n",
       "2         1.6      Distances\n",
       "3        22.2          Young\n",
       "4        39.0     Unemployed\n",
       "5         1.4          Asian\n",
       "6         1.1          Black\n",
       "7        38.8  Qualification\n",
       "8        58.1     Population"
      ]
     },
     "execution_count": 372,
     "metadata": {},
     "output_type": "execute_result"
    }
   ],
   "source": [
    "vif.round(1)"
   ]
  },
  {
   "cell_type": "code",
   "execution_count": 315,
   "metadata": {},
   "outputs": [
    {
     "data": {
      "text/html": [
       "<div>\n",
       "<style scoped>\n",
       "    .dataframe tbody tr th:only-of-type {\n",
       "        vertical-align: middle;\n",
       "    }\n",
       "\n",
       "    .dataframe tbody tr th {\n",
       "        vertical-align: top;\n",
       "    }\n",
       "\n",
       "    .dataframe thead th {\n",
       "        text-align: right;\n",
       "    }\n",
       "</style>\n",
       "<table border=\"1\" class=\"dataframe\">\n",
       "  <thead>\n",
       "    <tr style=\"text-align: right;\">\n",
       "      <th></th>\n",
       "      <th>Listings</th>\n",
       "      <th>postcode</th>\n",
       "      <th>Distances</th>\n",
       "      <th>Young</th>\n",
       "      <th>Bohemian</th>\n",
       "      <th>Unemployed</th>\n",
       "      <th>Asian</th>\n",
       "      <th>Black</th>\n",
       "      <th>White</th>\n",
       "      <th>Qualification</th>\n",
       "      <th>Population</th>\n",
       "    </tr>\n",
       "  </thead>\n",
       "  <tbody>\n",
       "    <tr>\n",
       "      <th>0</th>\n",
       "      <td>2831</td>\n",
       "      <td>E1</td>\n",
       "      <td>12.106606</td>\n",
       "      <td>21475.0</td>\n",
       "      <td>3865.0</td>\n",
       "      <td>3702.0</td>\n",
       "      <td>1</td>\n",
       "      <td>0</td>\n",
       "      <td>0</td>\n",
       "      <td>20771.0</td>\n",
       "      <td>70389</td>\n",
       "    </tr>\n",
       "    <tr>\n",
       "      <th>1</th>\n",
       "      <td>257</td>\n",
       "      <td>E10</td>\n",
       "      <td>10.911819</td>\n",
       "      <td>9275.0</td>\n",
       "      <td>1090.0</td>\n",
       "      <td>2112.0</td>\n",
       "      <td>0</td>\n",
       "      <td>0</td>\n",
       "      <td>1</td>\n",
       "      <td>9955.0</td>\n",
       "      <td>43120</td>\n",
       "    </tr>\n",
       "    <tr>\n",
       "      <th>2</th>\n",
       "      <td>307</td>\n",
       "      <td>E11</td>\n",
       "      <td>9.481475</td>\n",
       "      <td>11110.0</td>\n",
       "      <td>2483.0</td>\n",
       "      <td>2442.0</td>\n",
       "      <td>0</td>\n",
       "      <td>0</td>\n",
       "      <td>1</td>\n",
       "      <td>17597.0</td>\n",
       "      <td>54689</td>\n",
       "    </tr>\n",
       "    <tr>\n",
       "      <th>3</th>\n",
       "      <td>95</td>\n",
       "      <td>E12</td>\n",
       "      <td>6.130452</td>\n",
       "      <td>9206.0</td>\n",
       "      <td>530.0</td>\n",
       "      <td>2127.0</td>\n",
       "      <td>1</td>\n",
       "      <td>0</td>\n",
       "      <td>0</td>\n",
       "      <td>9535.0</td>\n",
       "      <td>42606</td>\n",
       "    </tr>\n",
       "    <tr>\n",
       "      <th>4</th>\n",
       "      <td>176</td>\n",
       "      <td>E13</td>\n",
       "      <td>6.417922</td>\n",
       "      <td>10310.0</td>\n",
       "      <td>521.0</td>\n",
       "      <td>2573.0</td>\n",
       "      <td>1</td>\n",
       "      <td>0</td>\n",
       "      <td>0</td>\n",
       "      <td>9719.0</td>\n",
       "      <td>47169</td>\n",
       "    </tr>\n",
       "  </tbody>\n",
       "</table>\n",
       "</div>"
      ],
      "text/plain": [
       "   Listings postcode  Distances    Young  Bohemian  Unemployed  Asian  Black  \\\n",
       "0      2831       E1  12.106606  21475.0    3865.0      3702.0      1      0   \n",
       "1       257      E10  10.911819   9275.0    1090.0      2112.0      0      0   \n",
       "2       307      E11   9.481475  11110.0    2483.0      2442.0      0      0   \n",
       "3        95      E12   6.130452   9206.0     530.0      2127.0      1      0   \n",
       "4       176      E13   6.417922  10310.0     521.0      2573.0      1      0   \n",
       "\n",
       "   White  Qualification  Population  \n",
       "0      0        20771.0       70389  \n",
       "1      1         9955.0       43120  \n",
       "2      1        17597.0       54689  \n",
       "3      0         9535.0       42606  \n",
       "4      0         9719.0       47169  "
      ]
     },
     "execution_count": 315,
     "metadata": {},
     "output_type": "execute_result"
    }
   ],
   "source": [
    "df7.head()"
   ]
  },
  {
   "cell_type": "code",
   "execution_count": 314,
   "metadata": {},
   "outputs": [
    {
     "data": {
      "text/html": [
       "<div>\n",
       "<style scoped>\n",
       "    .dataframe tbody tr th:only-of-type {\n",
       "        vertical-align: middle;\n",
       "    }\n",
       "\n",
       "    .dataframe tbody tr th {\n",
       "        vertical-align: top;\n",
       "    }\n",
       "\n",
       "    .dataframe thead th {\n",
       "        text-align: right;\n",
       "    }\n",
       "</style>\n",
       "<table border=\"1\" class=\"dataframe\">\n",
       "  <thead>\n",
       "    <tr style=\"text-align: right;\">\n",
       "      <th></th>\n",
       "      <th>Listings</th>\n",
       "      <th>postcode</th>\n",
       "      <th>Distances</th>\n",
       "      <th>Young</th>\n",
       "      <th>Bohemian</th>\n",
       "      <th>Unemployed</th>\n",
       "      <th>Asian</th>\n",
       "      <th>Black</th>\n",
       "      <th>White</th>\n",
       "      <th>Qualification</th>\n",
       "      <th>Population</th>\n",
       "    </tr>\n",
       "  </thead>\n",
       "  <tbody>\n",
       "    <tr>\n",
       "      <th>0</th>\n",
       "      <td>3.451940</td>\n",
       "      <td>E1</td>\n",
       "      <td>12.106606</td>\n",
       "      <td>4.331933</td>\n",
       "      <td>3.587149</td>\n",
       "      <td>3.568436</td>\n",
       "      <td>1</td>\n",
       "      <td>0</td>\n",
       "      <td>0</td>\n",
       "      <td>4.317457</td>\n",
       "      <td>4.847505</td>\n",
       "    </tr>\n",
       "    <tr>\n",
       "      <th>1</th>\n",
       "      <td>2.409933</td>\n",
       "      <td>E10</td>\n",
       "      <td>10.911819</td>\n",
       "      <td>3.967314</td>\n",
       "      <td>3.037426</td>\n",
       "      <td>3.324694</td>\n",
       "      <td>0</td>\n",
       "      <td>0</td>\n",
       "      <td>1</td>\n",
       "      <td>3.998041</td>\n",
       "      <td>4.634679</td>\n",
       "    </tr>\n",
       "    <tr>\n",
       "      <th>2</th>\n",
       "      <td>2.487138</td>\n",
       "      <td>E11</td>\n",
       "      <td>9.481475</td>\n",
       "      <td>4.045714</td>\n",
       "      <td>3.394977</td>\n",
       "      <td>3.387746</td>\n",
       "      <td>0</td>\n",
       "      <td>0</td>\n",
       "      <td>1</td>\n",
       "      <td>4.245439</td>\n",
       "      <td>4.737900</td>\n",
       "    </tr>\n",
       "    <tr>\n",
       "      <th>3</th>\n",
       "      <td>1.977724</td>\n",
       "      <td>E12</td>\n",
       "      <td>6.130452</td>\n",
       "      <td>3.964071</td>\n",
       "      <td>2.724276</td>\n",
       "      <td>3.327767</td>\n",
       "      <td>1</td>\n",
       "      <td>0</td>\n",
       "      <td>0</td>\n",
       "      <td>3.979321</td>\n",
       "      <td>4.629471</td>\n",
       "    </tr>\n",
       "    <tr>\n",
       "      <th>4</th>\n",
       "      <td>2.245513</td>\n",
       "      <td>E13</td>\n",
       "      <td>6.417922</td>\n",
       "      <td>4.013259</td>\n",
       "      <td>2.716838</td>\n",
       "      <td>3.410440</td>\n",
       "      <td>1</td>\n",
       "      <td>0</td>\n",
       "      <td>0</td>\n",
       "      <td>3.987622</td>\n",
       "      <td>4.673657</td>\n",
       "    </tr>\n",
       "  </tbody>\n",
       "</table>\n",
       "</div>"
      ],
      "text/plain": [
       "   Listings postcode  Distances     Young  Bohemian  Unemployed  Asian  Black  \\\n",
       "0  3.451940       E1  12.106606  4.331933  3.587149    3.568436      1      0   \n",
       "1  2.409933      E10  10.911819  3.967314  3.037426    3.324694      0      0   \n",
       "2  2.487138      E11   9.481475  4.045714  3.394977    3.387746      0      0   \n",
       "3  1.977724      E12   6.130452  3.964071  2.724276    3.327767      1      0   \n",
       "4  2.245513      E13   6.417922  4.013259  2.716838    3.410440      1      0   \n",
       "\n",
       "   White  Qualification  Population  \n",
       "0      0       4.317457    4.847505  \n",
       "1      1       3.998041    4.634679  \n",
       "2      1       4.245439    4.737900  \n",
       "3      0       3.979321    4.629471  \n",
       "4      0       3.987622    4.673657  "
      ]
     },
     "execution_count": 314,
     "metadata": {},
     "output_type": "execute_result"
    }
   ],
   "source": [
    "log_df7.head()"
   ]
  },
  {
   "cell_type": "code",
   "execution_count": 318,
   "metadata": {},
   "outputs": [
    {
     "data": {
      "text/html": [
       "<div>\n",
       "<style scoped>\n",
       "    .dataframe tbody tr th:only-of-type {\n",
       "        vertical-align: middle;\n",
       "    }\n",
       "\n",
       "    .dataframe tbody tr th {\n",
       "        vertical-align: top;\n",
       "    }\n",
       "\n",
       "    .dataframe thead th {\n",
       "        text-align: right;\n",
       "    }\n",
       "</style>\n",
       "<table border=\"1\" class=\"dataframe\">\n",
       "  <thead>\n",
       "    <tr style=\"text-align: right;\">\n",
       "      <th></th>\n",
       "      <th>Listings</th>\n",
       "      <th>postcode</th>\n",
       "      <th>Distances</th>\n",
       "      <th>Young</th>\n",
       "      <th>Bohemian</th>\n",
       "      <th>Unemployed</th>\n",
       "      <th>Asian</th>\n",
       "      <th>Black</th>\n",
       "      <th>White</th>\n",
       "      <th>Qualification</th>\n",
       "      <th>Population</th>\n",
       "    </tr>\n",
       "  </thead>\n",
       "  <tbody>\n",
       "    <tr>\n",
       "      <th>0</th>\n",
       "      <td>2831</td>\n",
       "      <td>E1</td>\n",
       "      <td>12.106606</td>\n",
       "      <td>4.331933</td>\n",
       "      <td>3.587149</td>\n",
       "      <td>3.568436</td>\n",
       "      <td>1</td>\n",
       "      <td>0</td>\n",
       "      <td>0</td>\n",
       "      <td>4.317457</td>\n",
       "      <td>4.847505</td>\n",
       "    </tr>\n",
       "    <tr>\n",
       "      <th>1</th>\n",
       "      <td>257</td>\n",
       "      <td>E10</td>\n",
       "      <td>10.911819</td>\n",
       "      <td>3.967314</td>\n",
       "      <td>3.037426</td>\n",
       "      <td>3.324694</td>\n",
       "      <td>0</td>\n",
       "      <td>0</td>\n",
       "      <td>1</td>\n",
       "      <td>3.998041</td>\n",
       "      <td>4.634679</td>\n",
       "    </tr>\n",
       "    <tr>\n",
       "      <th>2</th>\n",
       "      <td>307</td>\n",
       "      <td>E11</td>\n",
       "      <td>9.481475</td>\n",
       "      <td>4.045714</td>\n",
       "      <td>3.394977</td>\n",
       "      <td>3.387746</td>\n",
       "      <td>0</td>\n",
       "      <td>0</td>\n",
       "      <td>1</td>\n",
       "      <td>4.245439</td>\n",
       "      <td>4.737900</td>\n",
       "    </tr>\n",
       "    <tr>\n",
       "      <th>3</th>\n",
       "      <td>95</td>\n",
       "      <td>E12</td>\n",
       "      <td>6.130452</td>\n",
       "      <td>3.964071</td>\n",
       "      <td>2.724276</td>\n",
       "      <td>3.327767</td>\n",
       "      <td>1</td>\n",
       "      <td>0</td>\n",
       "      <td>0</td>\n",
       "      <td>3.979321</td>\n",
       "      <td>4.629471</td>\n",
       "    </tr>\n",
       "    <tr>\n",
       "      <th>4</th>\n",
       "      <td>176</td>\n",
       "      <td>E13</td>\n",
       "      <td>6.417922</td>\n",
       "      <td>4.013259</td>\n",
       "      <td>2.716838</td>\n",
       "      <td>3.410440</td>\n",
       "      <td>1</td>\n",
       "      <td>0</td>\n",
       "      <td>0</td>\n",
       "      <td>3.987622</td>\n",
       "      <td>4.673657</td>\n",
       "    </tr>\n",
       "  </tbody>\n",
       "</table>\n",
       "</div>"
      ],
      "text/plain": [
       "   Listings postcode  Distances     Young  Bohemian  Unemployed  Asian  Black  \\\n",
       "0      2831       E1  12.106606  4.331933  3.587149    3.568436      1      0   \n",
       "1       257      E10  10.911819  3.967314  3.037426    3.324694      0      0   \n",
       "2       307      E11   9.481475  4.045714  3.394977    3.387746      0      0   \n",
       "3        95      E12   6.130452  3.964071  2.724276    3.327767      1      0   \n",
       "4       176      E13   6.417922  4.013259  2.716838    3.410440      1      0   \n",
       "\n",
       "   White  Qualification  Population  \n",
       "0      0       4.317457    4.847505  \n",
       "1      1       3.998041    4.634679  \n",
       "2      1       4.245439    4.737900  \n",
       "3      0       3.979321    4.629471  \n",
       "4      0       3.987622    4.673657  "
      ]
     },
     "execution_count": 318,
     "metadata": {},
     "output_type": "execute_result"
    }
   ],
   "source": [
    "df7_log_count.head()"
   ]
  },
  {
   "cell_type": "code",
   "execution_count": 317,
   "metadata": {},
   "outputs": [],
   "source": [
    "#########################################\n",
    "############### Poisson #################\n",
    "#########################################\n",
    "\n",
    "### log skewed data for poisson and negative binomial\n",
    "\n",
    "df7_log_count = df7.copy(deep=True)\n",
    "\n",
    "df7_log_count['Young'] = df7_log_count['Young'].apply(lambda x: math.log10(x))\n",
    "df7_log_count['Bohemian'] = df7_log_count['Bohemian'].apply(lambda x: math.log10(x))\n",
    "df7_log_count['Population'] = df7_log_count['Population'].apply(lambda x: math.log10(x))\n",
    "df7_log_count['Qualification'] = df7_log_count['Qualification'].apply(lambda x: math.log10(x))\n",
    "df7_log_count['Unemployed'] = df7_log_count['Unemployed'].apply(lambda x: math.log10(x))"
   ]
  },
  {
   "cell_type": "code",
   "execution_count": 328,
   "metadata": {},
   "outputs": [
    {
     "name": "stdout",
     "output_type": "stream",
     "text": [
      "                 Generalized Linear Model Regression Results                  \n",
      "==============================================================================\n",
      "Dep. Variable:               Listings   No. Observations:                  154\n",
      "Model:                            GLM   Df Residuals:                      145\n",
      "Model Family:                 Poisson   Df Model:                            8\n",
      "Link Function:                    log   Scale:                          1.0000\n",
      "Method:                          IRLS   Log-Likelihood:                -7278.5\n",
      "Date:                Mon, 17 Dec 2018   Deviance:                       13434.\n",
      "Time:                        14:42:02   Pearson chi2:                 1.44e+04\n",
      "No. Iterations:                     6   Covariance Type:             nonrobust\n",
      "=================================================================================\n",
      "                    coef    std err          z      P>|z|      [0.025      0.975]\n",
      "---------------------------------------------------------------------------------\n",
      "Intercept         4.3964      0.109     40.182      0.000       4.182       4.611\n",
      "Bohemian          0.9896      0.030     33.529      0.000       0.932       1.047\n",
      "Distances         0.0042      0.001      4.163      0.000       0.002       0.006\n",
      "Young             3.6423      0.050     72.130      0.000       3.543       3.741\n",
      "Unemployed        1.1768      0.065     18.158      0.000       1.050       1.304\n",
      "Black             0.0974      0.042      2.340      0.019       0.016       0.179\n",
      "Asian             0.3562      0.020     17.645      0.000       0.317       0.396\n",
      "Qualification     2.2298      0.087     25.640      0.000       2.059       2.400\n",
      "Population       -6.2764      0.109    -57.642      0.000      -6.490      -6.063\n",
      "=================================================================================\n"
     ]
    }
   ],
   "source": [
    "### run model\n",
    "\n",
    "from patsy import dmatrices\n",
    "import statsmodels.api as sm\n",
    "\n",
    "formula = \"Listings ~ Bohemian+Distances+Young+Unemployed+Black+Asian+Qualification+Population\"\n",
    "response, predictors = dmatrices(formula, df7_log_count, return_type='dataframe')\n",
    "po_results = sm.GLM(response, predictors, family=sm.families.Poisson()).fit()\n",
    "print(po_results.summary())\n",
    "# print(po_results.fittedvalues)"
   ]
  },
  {
   "cell_type": "code",
   "execution_count": 352,
   "metadata": {},
   "outputs": [
    {
     "name": "stdout",
     "output_type": "stream",
     "text": [
      "(0.8601263985966683, 2.728347194162958e-46)\n"
     ]
    }
   ],
   "source": [
    "print(pearsonr(po_results.fittedvalues,df7['Listings']))"
   ]
  },
  {
   "cell_type": "code",
   "execution_count": 320,
   "metadata": {},
   "outputs": [
    {
     "data": {
      "image/png": "[encoded data removed]",
      "text/plain": [
       "<Figure size 432x288 with 1 Axes>"
      ]
     },
     "metadata": {},
     "output_type": "display_data"
    }
   ],
   "source": [
    "import matplotlib.pyplot as plt\n",
    "import numpy as np\n",
    "\n",
    "x = np.arange(len(df7['Listings']))\n",
    "# plt.plot(x, q.resid, label = 'OLS')\n",
    "plt.plot(x, po_results.resid_pearson, label = 'Poisson')\n",
    "plt.plot(x, r.resid, label = 'log')\n",
    "plt.legend(loc='lower right')\n",
    "plt.show()"
   ]
  },
  {
   "cell_type": "code",
   "execution_count": 324,
   "metadata": {},
   "outputs": [
    {
     "name": "stdout",
     "output_type": "stream",
     "text": [
      "                 Generalized Linear Model Regression Results                  \n",
      "==============================================================================\n",
      "Dep. Variable:               Listings   No. Observations:                  154\n",
      "Model:                            GLM   Df Residuals:                      145\n",
      "Model Family:        NegativeBinomial   Df Model:                            8\n",
      "Link Function:                    log   Scale:                          1.0000\n",
      "Method:                          IRLS   Log-Likelihood:                -1016.6\n",
      "Date:                Mon, 17 Dec 2018   Deviance:                       44.266\n",
      "Time:                        14:14:47   Pearson chi2:                     42.5\n",
      "No. Iterations:                     9   Covariance Type:             nonrobust\n",
      "=================================================================================\n",
      "                    coef    std err          z      P>|z|      [0.025      0.975]\n",
      "---------------------------------------------------------------------------------\n",
      "Intercept         5.0356      1.554      3.240      0.001       1.989       8.082\n",
      "Bohemian          0.9963      0.479      2.080      0.037       0.058       1.935\n",
      "Distances         0.0017      0.018      0.093      0.926      -0.034       0.037\n",
      "Young             3.3827      0.825      4.099      0.000       1.765       5.000\n",
      "Unemployed        1.1880      0.908      1.308      0.191      -0.592       2.968\n",
      "Black             0.1384      1.012      0.137      0.891      -1.845       2.122\n",
      "Asian             0.0111      0.476      0.023      0.981      -0.922       0.944\n",
      "Qualification     2.4927      1.276      1.954      0.051      -0.007       4.993\n",
      "Population       -6.4375      1.526     -4.220      0.000      -9.428      -3.447\n",
      "=================================================================================\n"
     ]
    }
   ],
   "source": [
    "#########################################\n",
    "####### Negative binomial ###############\n",
    "#########################################\n",
    "\n",
    "formula = \"Listings ~ Bohemian+Distances+Young+Unemployed+Black+Asian+Qualification+Population\"\n",
    "response, predictors = dmatrices(formula, df7_log_count, return_type='dataframe')\n",
    "nb_results = sm.GLM(response, predictors, family=sm.families.NegativeBinomial()).fit()\n",
    "print(nb_results.summary())\n",
    "# print(po_results.fittedvalues)"
   ]
  },
  {
   "cell_type": "code",
   "execution_count": 347,
   "metadata": {},
   "outputs": [
    {
     "data": {
      "text/plain": [
       "0    1200.271832\n",
       "1     265.170394\n",
       "2     505.988748\n",
       "3     190.752471\n",
       "4     189.596501\n",
       "dtype: float64"
      ]
     },
     "execution_count": 347,
     "metadata": {},
     "output_type": "execute_result"
    }
   ],
   "source": [
    "nb_results.fittedvalues.head()"
   ]
  },
  {
   "cell_type": "code",
   "execution_count": 349,
   "metadata": {},
   "outputs": [
    {
     "data": {
      "text/plain": [
       "0    2831\n",
       "1     257\n",
       "2     307\n",
       "3      95\n",
       "4     176\n",
       "Name: Listings, dtype: int64"
      ]
     },
     "execution_count": 349,
     "metadata": {},
     "output_type": "execute_result"
    }
   ],
   "source": [
    "df7['Listings'].head()"
   ]
  },
  {
   "cell_type": "code",
   "execution_count": 351,
   "metadata": {},
   "outputs": [
    {
     "name": "stdout",
     "output_type": "stream",
     "text": [
      "(0.8312894249978171, 1.3232626244497841e-40)\n"
     ]
    }
   ],
   "source": [
    "from scipy.stats import pearsonr\n",
    "print(pearsonr(nb_results.fittedvalues,df7['Listings']))"
   ]
  },
  {
   "cell_type": "code",
   "execution_count": 358,
   "metadata": {},
   "outputs": [
    {
     "data": {
      "image/png": "[encoded data removed]",
      "text/plain": [
       "<Figure size 432x288 with 1 Axes>"
      ]
     },
     "metadata": {},
     "output_type": "display_data"
    }
   ],
   "source": [
    "import matplotlib.pyplot as plt\n",
    "import numpy as np\n",
    "\n",
    "x = np.arange(len(df7['Listings']))\n",
    "# plt.plot(x, ols_resid, label = 'OLS')\n",
    "plt.plot(x, r.resid_pearson, label = 'OLS')\n",
    "plt.plot(x, nb_results.resid_pearson, label = 'Negative Binomial')\n",
    "plt.plot(x, po_results.resid_pearson, label = 'Poisson')\n",
    "plt.legend(loc='upper left')\n",
    "sns.despine()\n",
    "cur_axes = plt.gca()\n",
    "cur_axes.axes.get_xaxis().set_visible(False)\n",
    "plt.savefig('All_models_resid.png')\n",
    "plt.show()"
   ]
  },
  {
   "cell_type": "code",
   "execution_count": 357,
   "metadata": {},
   "outputs": [
    {
     "data": {
      "image/png": "[encoded data removed]",
      "text/plain": [
       "<Figure size 432x288 with 1 Axes>"
      ]
     },
     "metadata": {},
     "output_type": "display_data"
    }
   ],
   "source": [
    "x = np.arange(len(df7['Listings']))\n",
    "# plt.plot(x, ols_resid, label = 'OLS')\n",
    "plt.plot(x, r.resid_pearson, label = 'OLS')\n",
    "plt.plot(x, nb_results.resid_pearson, label = 'Negative Binomial')\n",
    "# plt.plot(x, po_results.resid_pearson, label = 'Poisson')\n",
    "plt.legend(loc='upper left')\n",
    "sns.despine()\n",
    "cur_axes = plt.gca()\n",
    "cur_axes.axes.get_xaxis().set_visible(False)\n",
    "plt.savefig('2_models_resid.png')\n",
    "plt.show()"
   ]
  },
  {
   "cell_type": "code",
   "execution_count": 343,
   "metadata": {},
   "outputs": [
    {
     "data": {
      "text/plain": [
       "0.27807981625859757"
      ]
     },
     "execution_count": 343,
     "metadata": {},
     "output_type": "execute_result"
    }
   ],
   "source": [
    "nb_results.resid_pearson.var()"
   ]
  }
 ],
 "metadata": {
  "kernelspec": {
   "display_name": "Python 3",
   "language": "python",
   "name": "python3"
  },
  "language_info": {
   "codemirror_mode": {
    "name": "ipython",
    "version": 3
   },
   "file_extension": ".py",
   "mimetype": "text/x-python",
   "name": "python",
   "nbconvert_exporter": "python",
   "pygments_lexer": "ipython3",
   "version": "3.8.8"
  }
 },
 "nbformat": 4,
 "nbformat_minor": 4
}
